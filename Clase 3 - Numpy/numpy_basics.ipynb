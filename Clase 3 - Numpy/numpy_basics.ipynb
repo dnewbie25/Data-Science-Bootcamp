{
 "cells": [
  {
   "cell_type": "markdown",
   "metadata": {},
   "source": [
    "Importing numpy as np"
   ]
  },
  {
   "cell_type": "code",
   "execution_count": 1,
   "metadata": {},
   "outputs": [],
   "source": [
    "import numpy as np"
   ]
  },
  {
   "cell_type": "markdown",
   "metadata": {},
   "source": [
    "En numpy un escalar es un solo elemento, un vector es una lista, una lista bidimensional es una matriz, 3 o mas-dimensional es un tensor"
   ]
  },
  {
   "cell_type": "code",
   "execution_count": 3,
   "metadata": {},
   "outputs": [
    {
     "name": "stdout",
     "output_type": "stream",
     "text": [
      "[1 2 3 4 5 6]\n"
     ]
    }
   ],
   "source": [
    "# crear una lista con numpy de 1 dimension (vector)\n",
    "mi_lista = [1,2,3,4,5,6]\n",
    "lista_numpy = np.array(mi_lista)\n",
    "print(lista_numpy)"
   ]
  },
  {
   "cell_type": "code",
   "execution_count": 6,
   "metadata": {},
   "outputs": [
    {
     "name": "stdout",
     "output_type": "stream",
     "text": [
      "[0 1 2 3 4 5 6 7 8 9]\n"
     ]
    }
   ],
   "source": [
    "lista_digitos = np.arange(0,10,1) # arange(start, stop, step non inclusive)\n",
    "print(lista_digitos)"
   ]
  },
  {
   "cell_type": "code",
   "execution_count": 30,
   "metadata": {},
   "outputs": [
    {
     "data": {
      "text/plain": [
       "array([ 0.        ,  1.11111111,  2.22222222,  3.33333333,  4.44444444,\n",
       "        5.55555556,  6.66666667,  7.77777778,  8.88888889, 10.        ])"
      ]
     },
     "execution_count": 30,
     "metadata": {},
     "output_type": "execute_result"
    }
   ],
   "source": [
    "lista_digitos2 = np.linspace(start=0,stop=10,num=10) #create num elementos entre el star y el stop que esten equivalentemente espaciados, si incluye al ultimo\n",
    "lista_digitos2"
   ]
  },
  {
   "cell_type": "code",
   "execution_count": 32,
   "metadata": {},
   "outputs": [
    {
     "name": "stdout",
     "output_type": "stream",
     "text": [
      "[0. 0. 0. 0. 0. 0. 0. 0. 0. 0.]\n",
      "[1. 1. 1. 1. 1. 1. 1. 1. 1. 1.]\n"
     ]
    }
   ],
   "source": [
    "ceros = np.zeros(10) # crea lista de X numero de ceros/unos\n",
    "print(ceros)\n",
    "unos = np.ones(10)\n",
    "print(unos)"
   ]
  },
  {
   "cell_type": "code",
   "execution_count": 37,
   "metadata": {},
   "outputs": [
    {
     "name": "stdout",
     "output_type": "stream",
     "text": [
      "[3 3]\n",
      "[[0 0]\n",
      " [0 0]\n",
      " [0 0]\n",
      " [0 0]\n",
      " [0 0]]\n"
     ]
    }
   ],
   "source": [
    "fulls = np.full(2,3) # crea una lista con 2 elementos que valen 3\n",
    "print(fulls)\n",
    "# otra forma es con shape y fill_value\n",
    "fulls2 = np.full(shape=(5,2), fill_value=0) # crea 5 listas de 2 elementos, cada elemento es 0 (matriz pues es una lista de listas, es decir bidimensional)\n",
    "print(fulls2)"
   ]
  },
  {
   "cell_type": "code",
   "execution_count": null,
   "metadata": {},
   "outputs": [
    {
     "name": "stdout",
     "output_type": "stream",
     "text": [
      "[[4.345 4.345 4.345]\n",
      " [4.345 4.345 4.345]\n",
      " [4.345 4.345 4.345]\n",
      " [4.345 4.345 4.345]]\n",
      "====================\n",
      "[[3.14159265 3.14159265 3.14159265]\n",
      " [3.14159265 3.14159265 3.14159265]\n",
      " [3.14159265 3.14159265 3.14159265]\n",
      " [3.14159265 3.14159265 3.14159265]]\n"
     ]
    }
   ],
   "source": [
    "# se pueden crear copias de un np.full y cambiarles el valor a cada elemento asi\n",
    "base = np.full(shape=(4,3), fill_value=4.345)\n",
    "print(base)\n",
    "print(\"====================\")\n",
    "nueva_base = np.full_like(base, np.pi) # np.pi es pi"
   ]
  },
  {
   "cell_type": "markdown",
   "metadata": {},
   "source": [
    "Otra forma es crear arrays ya no con datos predefinidos sino aleatorios, para eso se usan estos metodos"
   ]
  }
 ],
 "metadata": {
  "kernelspec": {
   "display_name": "base",
   "language": "python",
   "name": "python3"
  },
  "language_info": {
   "codemirror_mode": {
    "name": "ipython",
    "version": 3
   },
   "file_extension": ".py",
   "mimetype": "text/x-python",
   "name": "python",
   "nbconvert_exporter": "python",
   "pygments_lexer": "ipython3",
   "version": "3.9.7"
  },
  "orig_nbformat": 4
 },
 "nbformat": 4,
 "nbformat_minor": 2
}
