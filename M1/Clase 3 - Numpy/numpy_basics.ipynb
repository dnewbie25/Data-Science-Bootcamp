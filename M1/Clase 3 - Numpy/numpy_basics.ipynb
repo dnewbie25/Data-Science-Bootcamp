{
 "cells": [
  {
   "cell_type": "markdown",
   "metadata": {},
   "source": [
    "Importing numpy as np"
   ]
  },
  {
   "cell_type": "code",
   "execution_count": 1,
   "metadata": {},
   "outputs": [],
   "source": [
    "import numpy as np"
   ]
  },
  {
   "cell_type": "markdown",
   "metadata": {},
   "source": [
    "En numpy un escalar es un solo elemento, un vector es una lista, una lista bidimensional es una matriz, 3 o mas-dimensional es un tensor"
   ]
  },
  {
   "cell_type": "code",
   "execution_count": 3,
   "metadata": {},
   "outputs": [
    {
     "name": "stdout",
     "output_type": "stream",
     "text": [
      "[1 2 3 4 5 6]\n"
     ]
    }
   ],
   "source": [
    "# crear una lista con numpy de 1 dimension (vector)\n",
    "mi_lista = [1,2,3,4,5,6]\n",
    "lista_numpy = np.array(mi_lista)\n",
    "print(lista_numpy)"
   ]
  },
  {
   "cell_type": "code",
   "execution_count": 6,
   "metadata": {},
   "outputs": [
    {
     "name": "stdout",
     "output_type": "stream",
     "text": [
      "[0 1 2 3 4 5 6 7 8 9]\n"
     ]
    }
   ],
   "source": [
    "lista_digitos = np.arange(0,10,1) # arange(start, stop, step non inclusive)\n",
    "print(lista_digitos)"
   ]
  },
  {
   "cell_type": "code",
   "execution_count": 30,
   "metadata": {},
   "outputs": [
    {
     "data": {
      "text/plain": [
       "array([ 0.        ,  1.11111111,  2.22222222,  3.33333333,  4.44444444,\n",
       "        5.55555556,  6.66666667,  7.77777778,  8.88888889, 10.        ])"
      ]
     },
     "execution_count": 30,
     "metadata": {},
     "output_type": "execute_result"
    }
   ],
   "source": [
    "lista_digitos2 = np.linspace(start=0,stop=10,num=10) #create num elementos entre el star y el stop que esten equivalentemente espaciados, si incluye al ultimo\n",
    "lista_digitos2"
   ]
  },
  {
   "cell_type": "code",
   "execution_count": 32,
   "metadata": {},
   "outputs": [
    {
     "name": "stdout",
     "output_type": "stream",
     "text": [
      "[0. 0. 0. 0. 0. 0. 0. 0. 0. 0.]\n",
      "[1. 1. 1. 1. 1. 1. 1. 1. 1. 1.]\n"
     ]
    }
   ],
   "source": [
    "ceros = np.zeros(10) # crea lista de X numero de ceros/unos\n",
    "print(ceros)\n",
    "unos = np.ones(10)\n",
    "print(unos)"
   ]
  },
  {
   "cell_type": "code",
   "execution_count": 37,
   "metadata": {},
   "outputs": [
    {
     "name": "stdout",
     "output_type": "stream",
     "text": [
      "[3 3]\n",
      "[[0 0]\n",
      " [0 0]\n",
      " [0 0]\n",
      " [0 0]\n",
      " [0 0]]\n"
     ]
    }
   ],
   "source": [
    "fulls = np.full(2,3) # crea una lista con 2 elementos que valen 3\n",
    "print(fulls)\n",
    "# otra forma es con shape y fill_value\n",
    "fulls2 = np.full(shape=(5,2), fill_value=0) # crea 5 listas de 2 elementos, cada elemento es 0 (matriz pues es una lista de listas, es decir bidimensional)\n",
    "print(fulls2)"
   ]
  },
  {
   "cell_type": "code",
   "execution_count": null,
   "metadata": {},
   "outputs": [
    {
     "name": "stdout",
     "output_type": "stream",
     "text": [
      "[[4.345 4.345 4.345]\n",
      " [4.345 4.345 4.345]\n",
      " [4.345 4.345 4.345]\n",
      " [4.345 4.345 4.345]]\n",
      "====================\n",
      "[[3.14159265 3.14159265 3.14159265]\n",
      " [3.14159265 3.14159265 3.14159265]\n",
      " [3.14159265 3.14159265 3.14159265]\n",
      " [3.14159265 3.14159265 3.14159265]]\n"
     ]
    }
   ],
   "source": [
    "# se pueden crear copias de un np.full y cambiarles el valor a cada elemento asi\n",
    "base = np.full(shape=(4,3), fill_value=4.345)\n",
    "print(base)\n",
    "print(\"====================\")\n",
    "nueva_base = np.full_like(base, np.pi) # np.pi es pi"
   ]
  },
  {
   "cell_type": "markdown",
   "metadata": {},
   "source": [
    "Otra forma es crear arrays ya no con datos predefinidos sino aleatorios, para eso se usan estos metodos"
   ]
  },
  {
   "cell_type": "code",
   "execution_count": 45,
   "metadata": {},
   "outputs": [
    {
     "data": {
      "text/plain": [
       "array([[0.35360826, 0.7872959 ],\n",
       "       [0.28152416, 0.071897  ],\n",
       "       [0.13826965, 0.27312125]])"
      ]
     },
     "execution_count": 45,
     "metadata": {},
     "output_type": "execute_result"
    }
   ],
   "source": [
    "array_aleatorio = np.random.rand(3,2) # retorna una matriz m x n con datos del 0 al 1\n",
    "array_aleatorio"
   ]
  },
  {
   "cell_type": "code",
   "execution_count": 48,
   "metadata": {},
   "outputs": [
    {
     "data": {
      "text/plain": [
       "array([[2, 2],\n",
       "       [3, 3],\n",
       "       [3, 3],\n",
       "       [2, 2]])"
      ]
     },
     "execution_count": 48,
     "metadata": {},
     "output_type": "execute_result"
    }
   ],
   "source": [
    "array_enteros = np.random.randint(low=2, high=4, size=(4,2))\n",
    "array_enteros"
   ]
  },
  {
   "cell_type": "code",
   "execution_count": 50,
   "metadata": {},
   "outputs": [
    {
     "data": {
      "text/plain": [
       "array([[4.75965066, 4.87319067],\n",
       "       [5.3646093 , 2.46824445],\n",
       "       [4.49574011, 6.90652854]])"
      ]
     },
     "execution_count": 50,
     "metadata": {},
     "output_type": "execute_result"
    }
   ],
   "source": [
    "distribucion_gausiana_normal = np.random.normal(loc=5, scale=1, size=(3,2))\n",
    "distribucion_gausiana_normal"
   ]
  },
  {
   "cell_type": "code",
   "execution_count": 53,
   "metadata": {},
   "outputs": [
    {
     "name": "stdout",
     "output_type": "stream",
     "text": [
      "[8 7 5 8 5 5 9 8 5 5 6 8 6 5 7 8 5 7 8 8 5 9 5 5]\n"
     ]
    }
   ],
   "source": [
    "# flatten lleva cualquier aray a 1 Dimesion\n",
    "flatten_ejemplo = np.random.randint(low=5,high=10,size=(2,3,4))\n",
    "print(flatten_ejemplo.flatten())\n"
   ]
  },
  {
   "cell_type": "markdown",
   "metadata": {},
   "source": [
    "Se puede hacer slicing usando [ ]"
   ]
  },
  {
   "cell_type": "code",
   "execution_count": 56,
   "metadata": {},
   "outputs": [
    {
     "name": "stdout",
     "output_type": "stream",
     "text": [
      "[[7 5 8 3]\n",
      " [4 7 7 9]\n",
      " [6 9 6 8]]\n"
     ]
    }
   ],
   "source": [
    "lista2 = np.random.randint(low=1, high=10, size=(3,4))\n",
    "print(lista2)"
   ]
  },
  {
   "cell_type": "code",
   "execution_count": 62,
   "metadata": {},
   "outputs": [
    {
     "data": {
      "text/plain": [
       "array([[4],\n",
       "       [6]])"
      ]
     },
     "execution_count": 62,
     "metadata": {},
     "output_type": "execute_result"
    }
   ],
   "source": [
    "lista2[1:3,:1]"
   ]
  },
  {
   "cell_type": "markdown",
   "metadata": {},
   "source": [
    "Se puede copiar un numpy array usando *.copy() o simplemente np.array(*array a copiar*)"
   ]
  }
 ],
 "metadata": {
  "kernelspec": {
   "display_name": "base",
   "language": "python",
   "name": "python3"
  },
  "language_info": {
   "codemirror_mode": {
    "name": "ipython",
    "version": 3
   },
   "file_extension": ".py",
   "mimetype": "text/x-python",
   "name": "python",
   "nbconvert_exporter": "python",
   "pygments_lexer": "ipython3",
   "version": "3.9.7"
  },
  "orig_nbformat": 4
 },
 "nbformat": 4,
 "nbformat_minor": 2
}
