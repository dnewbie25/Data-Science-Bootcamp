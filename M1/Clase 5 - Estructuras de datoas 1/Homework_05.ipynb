{
 "cells": [
  {
   "cell_type": "markdown",
   "metadata": {},
   "source": [
    "# Práctica Clase 5"
   ]
  },
  {
   "cell_type": "markdown",
   "metadata": {},
   "source": [
    "1) Implementar un juego, que consista en apilar números enteros del 1 al 20, de forma aleatoria, para lo cual debe usarse una estructura de Pila. \n",
    "Luego, el usuario debe elegir un número de veces en que se va a quitar elementos de la pila, los cuales, sumados entre sí, no deben superar el valor de 50.\n",
    "El usuario pierde si la suma supera ese valor. Si no lo supera, gana, pero su calificación será 10 menos el número elementos que falten quitar para todavía no superar 50.\n",
    "El programa debe informar si perdió, y si ganó, con qué calificación lo hizo.\n",
    "\n",
    "Consideraciones:<br>\n",
    "a. Se puede usar la función input() para obtener una entrada de teclado.<br>\n",
    "b. Se puede usar la el modulo random para obtener valores aleatorios."
   ]
  },
  {
   "cell_type": "code",
   "execution_count": 3,
   "metadata": {},
   "outputs": [
    {
     "name": "stdout",
     "output_type": "stream",
     "text": [
      "Ahora elegiras cuantos numeros vas a quitar, elige un valor entre 1 y 20 (si te atreves)\n",
      "[17, 10, 17, 12, 9, 1, 4, 17, 10, 1, 6, 4, 16, 9, 16, 16, 4, 2, 14, 11]\n",
      "PERDISTEEE, tu total fue de 65\n",
      "[17, 10, 17, 12, 9]\n"
     ]
    }
   ],
   "source": [
    "from random import randint\n",
    "\n",
    "class juego_pilas():\n",
    "  def __init__(self):\n",
    "    self.lista = []; # se crea una lista vacia\n",
    "    self.eliminados = []\n",
    "\n",
    "  def hay_20_items(self): # hay 20 items o no\n",
    "    if len(self.lista) == 20:\n",
    "      return True     \n",
    "    return False\n",
    "  \n",
    "  def insertar(self): # inserta al inicio solo si hay menos de 20 items\n",
    "    # numero random del 1 al 20\n",
    "    numero = randint(1,20)\n",
    "    if not self.hay_20_items():\n",
    "      self.lista.insert(0, numero)\n",
    "\n",
    "  def remover(self): # quita el ultimo elemento agregado (se agregan en la posicion 0) y lo pone en la lista que cuenta el total\n",
    "    eliminado = self.lista.pop(0)\n",
    "    self.eliminados.append(eliminado)\n",
    "  \n",
    "  def cuantos_quiere_remover(self):\n",
    "    print(self.lista)\n",
    "    numero = int(input(\"Cuantos numeros quieres remover\"))\n",
    "    for i in range(0, numero):\n",
    "      self.remover()\n",
    "  \n",
    "  def revisar_ganador(self):\n",
    "    total = sum(self.eliminados)\n",
    "    if total < 50:\n",
    "      print(f\"Ganaste, la suma fue {total}\")\n",
    "    else:\n",
    "      print(f\"PERDISTEEE, tu total fue de {total}\")\n",
    "    print(self.eliminados)\n",
    "\n",
    "  def jugar(self):\n",
    "    while not self.hay_20_items():\n",
    "      self.insertar()\n",
    "    print(\"Ahora elegiras cuantos numeros vas a quitar, elige un valor entre 1 y 20 (si te atreves)\")\n",
    "    self.cuantos_quiere_remover()\n",
    "    self.revisar_ganador()\n",
    "\n",
    "\n",
    "juego = juego_pilas()\n",
    "juego.jugar()\n",
    "\n"
   ]
  },
  {
   "cell_type": "markdown",
   "metadata": {},
   "source": [
    "2) Implementar un juego donde constas de 2 jarras, de capacidad 5 y 3 litros respectivamente, y debes colocar 4 litros en la jarra de 5L.\n",
    "Las opciones posibles son:\n",
    "* Llenar la jarra de 3 litros\n",
    "* Llenar la jarra de 5 litros\n",
    "* Vaciar la jarra de 3 litros\n",
    "* Vaciar la jarra de 5 litros\n",
    "* Verter el contenido de la jarra de 3 litros en la de 5 litros\n",
    "* Verter el contenido de la jarra de 5 litros en la de 3 litros"
   ]
  }
 ],
 "metadata": {
  "kernelspec": {
   "display_name": "Python 3",
   "language": "python",
   "name": "python3"
  },
  "language_info": {
   "codemirror_mode": {
    "name": "ipython",
    "version": 3
   },
   "file_extension": ".py",
   "mimetype": "text/x-python",
   "name": "python",
   "nbconvert_exporter": "python",
   "pygments_lexer": "ipython3",
   "version": "3.9.7"
  }
 },
 "nbformat": 4,
 "nbformat_minor": 4
}
