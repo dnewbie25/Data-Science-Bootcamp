{
  "cells": [
    {
      "cell_type": "markdown",
      "metadata": {
        "id": "view-in-github",
        "colab_type": "text"
      },
      "source": [
        "<a href=\"https://colab.research.google.com/github/dnewbie25/Data-Science-Bootcamp/blob/main/Clase_1_Homework.ipynb\" target=\"_parent\"><img src=\"https://colab.research.google.com/assets/colab-badge.svg\" alt=\"Open In Colab\"/></a>"
      ]
    },
    {
      "cell_type": "markdown",
      "metadata": {
        "id": "oZJVwFimec72"
      },
      "source": [
        "# Práctica Clase 1"
      ]
    },
    {
      "cell_type": "markdown",
      "metadata": {
        "id": "rk9LBcnuec8A"
      },
      "source": [
        "1) Crear una función capaz de convertir números enteros de base 10 a base 2. Debe recibir como parámetro el número a convertir<br>\n",
        "Consideraciones:<br>\n",
        "a. Tratar de resolverlo sin usar la función format(nro,\"b\")<br>\n",
        "b. El pdf \"conversion-de-decimal-a-binario.pdf\" puede servir de ayuda.\n"
      ]
    },
    {
      "cell_type": "code",
      "execution_count": null,
      "metadata": {
        "id": "VVBMAUq-ec8C"
      },
      "outputs": [],
      "source": [
        "def NumeroBinario(numero):\n",
        "    '''\n",
        "    Esta función recibe como parámetro un número entero mayor ó igual a cero y lo devuelve en su\n",
        "    representación binaria. Debe recibir y devolver un valor de tipo entero.\n",
        "    En caso de que el parámetro no sea de tipo entero y mayor a -1 retorna nulo.\n",
        "    '''\n",
        "    lista_digitos_binarios = []\n",
        "    if(type(numero)==float or numero < 0):\n",
        "      return None\n",
        "\n",
        "    while numero > 0:\n",
        "      residuo = numero % 2\n",
        "      lista_digitos_binarios.append(residuo)\n",
        "      numero = numero // 2\n",
        "    lista_digitos_binarios.reverse()\n",
        "    return ''.join(map(str, lista_digitos_binarios))\n",
        "\n"
      ]
    },
    {
      "cell_type": "code",
      "execution_count": null,
      "metadata": {
        "id": "zpa6yk1mec8G",
        "outputId": "cba932ba-9de7-45ea-dc56-aabec090b907",
        "colab": {
          "base_uri": "https://localhost:8080/",
          "height": 35
        }
      },
      "outputs": [
        {
          "output_type": "execute_result",
          "data": {
            "text/plain": [
              "'1010010'"
            ],
            "application/vnd.google.colaboratory.intrinsic+json": {
              "type": "string"
            }
          },
          "metadata": {},
          "execution_count": 49
        }
      ],
      "source": [
        "#Ejemplo:\n",
        "NumeroBinario(82)"
      ]
    },
    {
      "cell_type": "markdown",
      "metadata": {
        "id": "LHhTwQOdec8L"
      },
      "source": [
        "2) Convertir de decimal a binario las fracciones 1/2, 1/3, 1/4, 1/5, 1/6, 1/7, 1/8, 1/9. Luego analizar los resultados y observar qué particularidad se encuentra en los mismos. Se puede usar Python o una calculadora, lo importante es ver si hay algo que podemos notar..."
      ]
    },
    {
      "cell_type": "markdown",
      "metadata": {
        "id": "_20tbVonec8N"
      },
      "source": [
        "Salida esperada:\n",
        "* Fraccion 1 / 2 :  0.5  y En binario:  0.1\n",
        "* Fraccion 1 / 3 :  0.3333333333333333  y En binario:  0.010101010101010101010101\n",
        "* Fraccion 1 / 4 :  0.25  y En binario:  0.01\n",
        "* Fraccion 1 / 5 :  0.2  y En binario:  0.001100110011001100110011\n",
        "* Fraccion 1 / 6 :  0.16666666666666666  y En binario:  0.001010101010101010101010\n",
        "* Fraccion 1 / 7 :  0.14285714285714285  y En binario:  0.001001001001001001001001\n",
        "* Fraccion 1 / 8 :  0.125  y En binario:  0.001\n",
        "* Fraccion 1 / 9 :  0.1111111111111111  y En binario:  0.000111000111000111000111"
      ]
    },
    {
      "cell_type": "code",
      "source": [
        "def fraccion_a_binario(numero):\n",
        "  lista_digitos_binarios = []\n",
        "  contador = 1\n",
        "  while numero != 0 and contador < 25:\n",
        "    numero = numero*2\n",
        "    if numero >= 1:\n",
        "      lista_digitos_binarios.append(1)\n",
        "      numero = float('0.' + str(numero)[2:])\n",
        "    else:\n",
        "      lista_digitos_binarios.append(0)\n",
        "    contador += 1\n",
        "  print(str('0.')+''.join(map(str,lista_digitos_binarios)))"
      ],
      "metadata": {
        "id": "nJUZGBNSxI4Q"
      },
      "execution_count": 17,
      "outputs": []
    },
    {
      "cell_type": "code",
      "source": [
        "fraccion_a_binario(1/5)"
      ],
      "metadata": {
        "colab": {
          "base_uri": "https://localhost:8080/"
        },
        "id": "2OQU6e7Fx8nB",
        "outputId": "3946086c-71b1-4040-d997-ba79150af36c"
      },
      "execution_count": 20,
      "outputs": [
        {
          "output_type": "stream",
          "name": "stdout",
          "text": [
            "0.001100110011001100110011\n"
          ]
        }
      ]
    }
  ],
  "metadata": {
    "interpreter": {
      "hash": "c85384e4cb51c8b72350f3a8712cc8351fdc3955e32a27f9b60c6242ab125f01"
    },
    "kernelspec": {
      "display_name": "Python 3.9.7 ('henry')",
      "language": "python",
      "name": "python3"
    },
    "language_info": {
      "codemirror_mode": {
        "name": "ipython",
        "version": 3
      },
      "file_extension": ".py",
      "mimetype": "text/x-python",
      "name": "python",
      "nbconvert_exporter": "python",
      "pygments_lexer": "ipython3",
      "version": "3.9.7"
    },
    "orig_nbformat": 4,
    "colab": {
      "provenance": [],
      "include_colab_link": true
    }
  },
  "nbformat": 4,
  "nbformat_minor": 0
}